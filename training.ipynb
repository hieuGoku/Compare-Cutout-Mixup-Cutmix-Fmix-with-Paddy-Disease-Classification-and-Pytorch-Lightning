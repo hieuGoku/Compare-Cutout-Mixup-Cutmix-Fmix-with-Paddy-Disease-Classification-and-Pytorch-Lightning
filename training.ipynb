{
  "cells": [
    {
      "cell_type": "markdown",
      "metadata": {
        "id": "_-r6anYPhHn-"
      },
      "source": [
        "## Import"
      ]
    },
    {
      "cell_type": "code",
      "execution_count": null,
      "metadata": {
        "colab": {
          "base_uri": "https://localhost:8080/"
        },
        "id": "tBI-WEu3BDLw",
        "outputId": "7345427c-5f07-4fae-fb0d-423dc6b86eb4"
      },
      "outputs": [
        {
          "output_type": "stream",
          "name": "stdout",
          "text": [
            "Mounted at /content/drive\n"
          ]
        }
      ],
      "source": [
        "from google.colab import drive\n",
        "drive.mount('/content/drive')"
      ]
    },
    {
      "cell_type": "code",
      "execution_count": null,
      "metadata": {
        "id": "0CVDHJrJBr65"
      },
      "outputs": [],
      "source": [
        "!pip install -r '/content/drive/MyDrive/Work_Share/paddy_disease_classification/requirements.txt'"
      ]
    },
    {
      "cell_type": "code",
      "execution_count": null,
      "metadata": {
        "colab": {
          "base_uri": "https://localhost:8080/"
        },
        "id": "lxpAw8A_CFXc",
        "outputId": "dff3b111-0f1e-4eea-bc42-44ff945346f8"
      },
      "outputs": [
        {
          "output_type": "stream",
          "name": "stdout",
          "text": [
            "Downloading paddy-disease-classification.zip to /content\n",
            "100% 1.02G/1.02G [00:48<00:00, 23.2MB/s]\n",
            "100% 1.02G/1.02G [00:48<00:00, 22.7MB/s]\n"
          ]
        }
      ],
      "source": [
        "!cp -r '/content/drive/MyDrive/Work_Share/paddy_disease_classification/kaggle.json' /content\n",
        "! pip install -q kaggle\n",
        "! mkdir ~/.kaggle\n",
        "! cp kaggle.json ~/.kaggle/\n",
        "! chmod 600 ~/.kaggle/kaggle.json\n",
        "! kaggle competitions download -c paddy-disease-classification\n",
        "!unzip -qqq paddy-disease-classification.zip"
      ]
    },
    {
      "cell_type": "code",
      "execution_count": null,
      "metadata": {
        "id": "Rkw6k4JJhHn8"
      },
      "outputs": [],
      "source": [
        "import torch\n",
        "import torch.nn as nn\n",
        "import torch.nn.functional as F\n",
        "import pytorch_lightning as pl\n",
        "import torchmetrics\n",
        "import timm\n",
        "from torchsummary import summary\n",
        "from torch.utils.data import DataLoader\n",
        "\n",
        "import re\n",
        "import math\n",
        "import random\n",
        "import numpy as np\n",
        "import pandas as pd\n",
        "from typing import Callable, Dict, Optional, Tuple\n",
        "from tqdm import tqdm\n",
        "import matplotlib.pyplot as plt\n",
        "import seaborn as sns\n",
        "import cv2\n",
        "import albumentations as A\n",
        "from albumentations.pytorch import ToTensorV2\n",
        "from albumentations.core.composition import Compose, OneOf\n",
        "import os\n",
        "import sys\n",
        "import glob\n",
        "import pathlib\n",
        "\n",
        "import warnings\n",
        "warnings.filterwarnings('ignore')"
      ]
    },
    {
      "cell_type": "markdown",
      "metadata": {
        "id": "chhAcCqahHoH"
      },
      "source": [
        "## Train"
      ]
    },
    {
      "cell_type": "code",
      "execution_count": null,
      "metadata": {
        "colab": {
          "base_uri": "https://localhost:8080/"
        },
        "id": "5zlTeQtFhHoI",
        "outputId": "e9b46ae7-2a6a-4df5-a7f7-117bca4d236b"
      },
      "outputs": [
        {
          "output_type": "stream",
          "name": "stdout",
          "text": [
            "/content/drive/.shortcut-targets-by-id/1hPMA1K_LEbWgkW44gTVTTTPj3cDkZEIY/Work_Share/paddy_disease_classification\n"
          ]
        }
      ],
      "source": [
        "%cd /content/drive/MyDrive/Work_Share/paddy_disease_classification"
      ]
    },
    {
      "cell_type": "code",
      "execution_count": null,
      "metadata": {
        "id": "1md1UK__CygV"
      },
      "outputs": [],
      "source": [
        "!python train.py --train-dir /content/train_images\\\n",
        "                 --test-dir /content/test_images\\\n",
        "                 --model-name tf_efficientnet_b0_ns\\\n",
        "                 --num-classes 10\\\n",
        "                 --lr 1e-3\\\n",
        "                 --max-lr 1e-2\\\n",
        "                 --num-epochs 100\\\n",
        "                 --steps-per-epoch 100\\\n",
        "                 --weight-decay 1e-6\\\n",
        "                 --precision 16-mixed\\\n",
        "                 --seed 42\\\n",
        "                 --aug fmix\\\n",
        "                 --p 0.5\\\n",
        "                 --pretrained True\\\n",
        "                 --batch-size 64\\\n",
        "                 --num-workers 2\\\n",
        "                 --n-splits 5\\\n",
        "                 --n-valid 0\\\n",
        "                 --image-size 512\\\n",
        "                 --cpkt_dir epochs_100/fmix_0_5\\\n",
        "                 --project paddy_disease_classification\\\n",
        "                 --name fmix_100_0_5\\\n",
        "                 --id 42hsw2ne\\\n",
        "                 --resume 'epochs_100/fmix_0_5/last.ckpt'"
      ]
    },
    {
      "cell_type": "code",
      "source": [],
      "metadata": {
        "id": "9lHRm2M_ID4O"
      },
      "execution_count": null,
      "outputs": []
    }
  ],
  "metadata": {
    "accelerator": "GPU",
    "colab": {
      "provenance": []
    },
    "gpuClass": "standard",
    "kernelspec": {
      "display_name": "Python 3",
      "language": "python",
      "name": "python3"
    },
    "language_info": {
      "codemirror_mode": {
        "name": "ipython",
        "version": 3
      },
      "file_extension": ".py",
      "mimetype": "text/x-python",
      "name": "python",
      "nbconvert_exporter": "python",
      "pygments_lexer": "ipython3",
      "version": "3.7.12"
    }
  },
  "nbformat": 4,
  "nbformat_minor": 0
}